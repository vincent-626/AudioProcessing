{
 "cells": [
  {
   "cell_type": "code",
   "execution_count": null,
   "id": "f241e7c8-d4b8-4250-8c3e-6947a9feed97",
   "metadata": {},
   "outputs": [],
   "source": [
    "import os\n",
    "import matplotlib.pyplot as plt\n",
    "import librosa, librosa.display\n",
    "import IPython.display as ipd\n",
    "import numpy as np\n",
    "from scipy import signal"
   ]
  },
  {
   "cell_type": "code",
   "execution_count": null,
   "id": "40e94b22-8dcd-4aa6-8255-e9e606f86a3d",
   "metadata": {},
   "outputs": [],
   "source": [
    "sound_file = \"7.00pm to 8.00pm (Surau).wav\""
   ]
  },
  {
   "cell_type": "code",
   "execution_count": null,
   "id": "403ad0cc",
   "metadata": {
    "scrolled": true
   },
   "outputs": [],
   "source": [
    "ipd.Audio(sound_file)"
   ]
  },
  {
   "cell_type": "code",
   "execution_count": null,
   "id": "d6753e3f",
   "metadata": {},
   "outputs": [],
   "source": [
    "# load sounds\n",
    "sound_c4, sr = librosa.load(sound_file)\n",
    "t = np.linspace(0, 270, len(sound_c4))"
   ]
  },
  {
   "cell_type": "code",
   "execution_count": null,
   "id": "4c1d0092",
   "metadata": {},
   "outputs": [],
   "source": [
    "plt.plot(t, sound_c4)\n",
    "plt.xlabel('Time, t (s)')\n",
    "plt.title('Surau (7.00 p.m. to 8.00 p.m.)')"
   ]
  },
  {
   "cell_type": "code",
   "execution_count": null,
   "id": "62d0c38f",
   "metadata": {},
   "outputs": [],
   "source": [
    "def plot_magnitude_spectrum(signal, sr, title, f_ratio=1):\n",
    "    X = np.fft.fft(signal)\n",
    "    global X_mag\n",
    "    X_mag = np.absolute(X)\n",
    "    \n",
    "    plt.figure(figsize=(18, 5))\n",
    "    \n",
    "    global f\n",
    "    f = np.linspace(0, sr, len(X_mag))\n",
    "    global f_bins\n",
    "    f_bins = int(len(X_mag)*f_ratio)\n",
    "    \n",
    "    plt.plot(f[:f_bins], X_mag[:f_bins])\n",
    "    plt.xlabel('Frequency (Hz)')\n",
    "    plt.title(title)"
   ]
  },
  {
   "cell_type": "code",
   "execution_count": null,
   "id": "10ddff2a",
   "metadata": {},
   "outputs": [],
   "source": [
    "plot_magnitude_spectrum(sound_c4, sr, \"Surau (7.00 p.m. to 8.00 p.m.)\", 0.1)"
   ]
  },
  {
   "cell_type": "code",
   "execution_count": null,
   "id": "ff97aa90",
   "metadata": {},
   "outputs": [],
   "source": [
    "total = sum(X_mag[:f_bins])\n",
    "\n",
    "f_range = 100\n",
    "flag = 0\n",
    "intensity = [0]\n",
    "\n",
    "for i in range(len(f[:f_bins])):\n",
    "    if f[i] - f_range > flag:\n",
    "        intensity.append(0)\n",
    "        flag += f_range\n",
    "\n",
    "    intensity[-1] += X_mag[i]"
   ]
  },
  {
   "cell_type": "code",
   "execution_count": null,
   "id": "5e27832b",
   "metadata": {},
   "outputs": [],
   "source": [
    "f_int = []\n",
    "\n",
    "flag2 = f_range//2\n",
    "\n",
    "for i in range(len(intensity)):\n",
    "    f_int.append(str(flag2))\n",
    "    flag2 += f_range\n",
    "\n",
    "relative = intensity/total    \n",
    "\n",
    "plt.figure(figsize=(12, 5))\n",
    "plt.bar(f_int, relative, width=1)\n",
    "plt.title('Surau (7.00 p.m. to 8.00 p.m.)')\n",
    "plt.xlabel('Frequency (Hz)')\n",
    "plt.ylabel('Relative Intensity')"
   ]
  },
  {
   "cell_type": "code",
   "execution_count": null,
   "id": "10e2356d",
   "metadata": {},
   "outputs": [],
   "source": [
    "entropy = 0\n",
    "\n",
    "for pi in relative:\n",
    "    entropy -= pi*np.log(pi)\n",
    "\n",
    "print('Shannon Entropy:', entropy)"
   ]
  },
  {
   "cell_type": "code",
   "execution_count": null,
   "id": "6bbc3b1a",
   "metadata": {
    "scrolled": false
   },
   "outputs": [],
   "source": [
    "fs = len(sound_c4)/270\n",
    "f, t, Sxx = signal.spectrogram(sound_c4, fs)\n",
    "\n",
    "for i in range(len(Sxx)):\n",
    "    for j in range(len(Sxx[0])):\n",
    "        if Sxx[i][j] == 0:\n",
    "            Sxx[i][j] = 10**-10\n",
    "\n",
    "log = np.log(Sxx)"
   ]
  },
  {
   "cell_type": "code",
   "execution_count": null,
   "id": "aa8f9373",
   "metadata": {
    "scrolled": false
   },
   "outputs": [],
   "source": [
    "plt.figure(figsize=(8,5))\n",
    "plt.pcolormesh(t, f, log, shading='gouraud', cmap='jet')\n",
    "plt.title('Surau (7.00 p.m. to 8.00 p.m.)')\n",
    "plt.ylim(0, 2000)\n",
    "plt.ylabel('Frequency [Hz]')\n",
    "plt.xlabel('Time [s]')"
   ]
  }
 ],
 "metadata": {
  "kernelspec": {
   "display_name": "Python 3.10.2 64-bit",
   "language": "python",
   "name": "python3"
  },
  "language_info": {
   "codemirror_mode": {
    "name": "ipython",
    "version": 3
   },
   "file_extension": ".py",
   "mimetype": "text/x-python",
   "name": "python",
   "nbconvert_exporter": "python",
   "pygments_lexer": "ipython3",
   "version": "3.10.2"
  },
  "vscode": {
   "interpreter": {
    "hash": "480dc36642c207d483853200507fc8946c85772a15dffc7374520e8a4a2e6f57"
   }
  }
 },
 "nbformat": 4,
 "nbformat_minor": 5
}
